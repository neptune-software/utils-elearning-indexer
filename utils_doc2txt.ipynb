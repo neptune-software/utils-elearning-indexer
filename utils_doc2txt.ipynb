{
 "cells": [
  {
   "cell_type": "code",
   "execution_count": null,
   "id": "222fddcb-5cad-491d-a13c-68fdde4304e8",
   "metadata": {},
   "outputs": [],
   "source": []
  },
  {
   "cell_type": "code",
   "execution_count": null,
   "id": "f8cdb358-65c2-4020-860b-efb9f0d5ef75",
   "metadata": {},
   "outputs": [],
   "source": [
    "!pip install python-docx"
   ]
  },
  {
   "cell_type": "code",
   "execution_count": 4,
   "id": "ec783788-e726-499c-aea3-070691b1b7ac",
   "metadata": {},
   "outputs": [
    {
     "name": "stdout",
     "output_type": "stream",
     "text": [
      "Directory 'data_ingested' already exists.\n",
      "/Users/gengsun/Downloads/Foundation/Media Library/doc_Media Library_doc_Media Library_Media Library video flow.docx\n",
      "Done...\n",
      "/Users/gengsun/Downloads/Foundation/Script Editor/Understanding the 'result' variable.docx\n",
      "Done...\n",
      "/Users/gengsun/Downloads/Foundation/Launchpad, Tile and Tile Group Basics/Launchpad Update Cycle.docx\n",
      "Done...\n",
      "/Users/gengsun/Downloads/Foundation/Setup, Overview, Development Package & Marketplace Essentials/Downloading products from the Marketpalce & inspecting the packages.docx\n",
      "Done...\n",
      "/Users/gengsun/Downloads/Foundation/Setup, Overview, Development Package & Marketplace Essentials/First look - How to navigate the Developer Cockpit.docx\n",
      "Done...\n",
      "/Users/gengsun/Downloads/Foundation/Other Cockpit features/Monitoring,  Logging and more.docx\n",
      "Done...\n",
      "/Users/gengsun/Downloads/Foundation/API Designer/What are APIs and what are RESTAPIs.docx\n",
      "Done...\n",
      "/Users/gengsun/Downloads/Foundation/API Designer/TablevsExternalAPIs.docx\n",
      "Done...\n",
      "/Users/gengsun/Downloads/Foundation/API Designer/POSTvsPUT.docx\n",
      "Done...\n",
      "/Users/gengsun/Downloads/Foundation/API Designer/APIDocFindings.docx\n",
      "Done...\n",
      "/Users/gengsun/Downloads/Foundation/Data Management Fundamentals Tables/Understanding data types.docx\n",
      "Done...\n",
      "/Users/gengsun/Downloads/Foundation/App Designer/App-Designer pt.1-DatePickers, ComboBoxes, SegmentedButtons, and RadioButtons.docx\n",
      "Done...\n",
      "/Users/gengsun/Downloads/Foundation/App Designer/App-Designer pt.1-SimpleForm.docx\n",
      "Done...\n",
      "/Users/gengsun/Downloads/Foundation/App Designer/Pt.2 - Definitions integration with the App Designer.docx\n",
      "Done...\n",
      "/Users/gengsun/Downloads/Foundation/App Designer/App-Designer pt.1-Panels, Popovers, and GenericTiles.docx\n",
      "Done...\n",
      "/Users/gengsun/Downloads/Foundation/App Designer/Pt2. Models and Bindings.docx\n",
      "Done...\n",
      "/Users/gengsun/Downloads/Foundation/App Designer/Highlight the full binding data flow.docx\n",
      "Done...\n",
      "/Users/gengsun/Downloads/Foundation/App Designer/App-Deisgner pt.1-Message Box.docx\n",
      "Done...\n",
      "/Users/gengsun/Downloads/Foundation/App Designer/App-Designer pt.1-Import App Builder app in the App Designer.docx\n",
      "Done...\n",
      "/Users/gengsun/Downloads/Foundation/App Designer/Writing good error messages.docx\n",
      "Done...\n",
      "/Users/gengsun/Downloads/Foundation/App Designer/Pt 2. Using .getContent on a Form, and looping through.docx\n",
      "Done...\n",
      "/Users/gengsun/Downloads/Foundation/App Designer/Searching within the App Designer.docx\n",
      "Done...\n",
      "/Users/gengsun/Downloads/Foundation/App Designer/App-Designer pt.1-Input Fields.docx\n",
      "Done...\n",
      "/Users/gengsun/Downloads/Foundation/App Designer/App-Designer pt.1-Dialogs .docx\n",
      "Done...\n",
      "/Users/gengsun/Downloads/Foundation/App Designer/App-Designer pt.1-Responsive Design Principles.docx\n",
      "Done...\n",
      "/Users/gengsun/Downloads/Foundation/App Designer/App-Designer pt.1-Generate-Application-Versions.docx\n",
      "Done...\n",
      "/Users/gengsun/Downloads/Foundation/App Designer/App-Designer pt.2-ListItem Varients.docx\n",
      "Done...\n",
      "/Users/gengsun/Downloads/Foundation/App Designer/App-Designer pt.1-Layout Boxes revision.docx\n",
      "Done...\n",
      "/Users/gengsun/Downloads/Foundation/App Designer/App Designer Sample App Setup and Demo.docx\n",
      "Done...\n"
     ]
    }
   ],
   "source": [
    "import os\n",
    "from docx import Document\n",
    "\n",
    "def check_and_create_directory(directory_name):\n",
    "    if not os.path.exists(directory_name):\n",
    "        os.makedirs(directory_name)\n",
    "        print(f\"Directory '{directory_name}' created successfully.\")\n",
    "    else:\n",
    "        print(f\"Directory '{directory_name}' already exists.\")\n",
    "\n",
    "def convert_docx_to_txt(docx_file, txt_file):\n",
    "    doc = Document(docx_file)\n",
    "    print(docx_file)\n",
    "    with open(txt_file, \"w\", encoding=\"utf-8\") as f:\n",
    "        for paragraph in doc.paragraphs:\n",
    "            f.write(paragraph.text + \"\\n\")\n",
    "    print(\"Done...\")\n",
    "\n",
    "def process_folder(folder_path):\n",
    "    for root, dirs, files in os.walk(folder_path):\n",
    "        for file in files:\n",
    "            if file.endswith(\".docx\"):\n",
    "                docx_file = os.path.join(root, file)\n",
    "                # Extract the video file name and the nearest folder name\n",
    "                doc_name = os.path.splitext(file)[0]\n",
    "                parent_folder_name = os.path.basename(root)\n",
    "                convert_docx_to_txt(docx_file, f\"./data_ingested/doc_{parent_folder_name}_{doc_name}.txt\")\n",
    "\n",
    "# Specify the folder path to scan\n",
    "folder_path = \"/Users/gengsun/Downloads/Foundation\"\n",
    "check_and_create_directory(\"data_ingested\")\n",
    "\n",
    "# Process the folder\n",
    "process_folder(folder_path)\n"
   ]
  },
  {
   "cell_type": "code",
   "execution_count": null,
   "id": "71c34d0a-0d4f-42b1-84ef-d571521fbc02",
   "metadata": {},
   "outputs": [],
   "source": []
  },
  {
   "cell_type": "code",
   "execution_count": null,
   "id": "aa500656-16cf-4bc2-93cb-ccf6e365b91e",
   "metadata": {},
   "outputs": [],
   "source": []
  }
 ],
 "metadata": {
  "kernelspec": {
   "display_name": "Python 3 (ipykernel)",
   "language": "python",
   "name": "python3"
  },
  "language_info": {
   "codemirror_mode": {
    "name": "ipython",
    "version": 3
   },
   "file_extension": ".py",
   "mimetype": "text/x-python",
   "name": "python",
   "nbconvert_exporter": "python",
   "pygments_lexer": "ipython3",
   "version": "3.8.19"
  }
 },
 "nbformat": 4,
 "nbformat_minor": 5
}
